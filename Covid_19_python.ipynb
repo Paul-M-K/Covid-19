{
 "cells": [
  {
   "cell_type": "code",
   "execution_count": 47,
   "metadata": {},
   "outputs": [],
   "source": [
    "import pandas as pd\n",
    "import matplotlib as plt\n",
    "import numpy as np"
   ]
  },
  {
   "cell_type": "code",
   "execution_count": 48,
   "metadata": {
    "scrolled": true
   },
   "outputs": [
    {
     "data": {
      "text/html": [
       "<div>\n",
       "<style scoped>\n",
       "    .dataframe tbody tr th:only-of-type {\n",
       "        vertical-align: middle;\n",
       "    }\n",
       "\n",
       "    .dataframe tbody tr th {\n",
       "        vertical-align: top;\n",
       "    }\n",
       "\n",
       "    .dataframe thead th {\n",
       "        text-align: right;\n",
       "    }\n",
       "</style>\n",
       "<table border=\"1\" class=\"dataframe\">\n",
       "  <thead>\n",
       "    <tr style=\"text-align: right;\">\n",
       "      <th></th>\n",
       "      <th>0</th>\n",
       "      <th>1</th>\n",
       "      <th>2</th>\n",
       "      <th>3</th>\n",
       "      <th>4</th>\n",
       "      <th>5</th>\n",
       "      <th>6</th>\n",
       "      <th>7</th>\n",
       "      <th>8</th>\n",
       "      <th>9</th>\n",
       "      <th>10</th>\n",
       "      <th>11</th>\n",
       "      <th>12</th>\n",
       "      <th>13</th>\n",
       "    </tr>\n",
       "  </thead>\n",
       "  <tbody>\n",
       "    <tr>\n",
       "      <th>0</th>\n",
       "      <td>pruid</td>\n",
       "      <td>prname</td>\n",
       "      <td>prnameFR</td>\n",
       "      <td>date</td>\n",
       "      <td>numconf</td>\n",
       "      <td>numprob</td>\n",
       "      <td>numdeaths</td>\n",
       "      <td>numtotal</td>\n",
       "      <td>numtested</td>\n",
       "      <td>numrecover</td>\n",
       "      <td>percentrecover</td>\n",
       "      <td>ratetested</td>\n",
       "      <td>numtoday</td>\n",
       "      <td>percentoday</td>\n",
       "    </tr>\n",
       "    <tr>\n",
       "      <th>1</th>\n",
       "      <td>35</td>\n",
       "      <td>Ontario</td>\n",
       "      <td>Ontario</td>\n",
       "      <td>31-01-2020</td>\n",
       "      <td>3</td>\n",
       "      <td>0</td>\n",
       "      <td>0</td>\n",
       "      <td>3</td>\n",
       "      <td>NaN</td>\n",
       "      <td>NaN</td>\n",
       "      <td>NaN</td>\n",
       "      <td>NaN</td>\n",
       "      <td>3</td>\n",
       "      <td>3</td>\n",
       "    </tr>\n",
       "    <tr>\n",
       "      <th>2</th>\n",
       "      <td>59</td>\n",
       "      <td>British Columbia</td>\n",
       "      <td>Colombie-Britannique</td>\n",
       "      <td>31-01-2020</td>\n",
       "      <td>1</td>\n",
       "      <td>0</td>\n",
       "      <td>0</td>\n",
       "      <td>1</td>\n",
       "      <td>NaN</td>\n",
       "      <td>NaN</td>\n",
       "      <td>NaN</td>\n",
       "      <td>NaN</td>\n",
       "      <td>1</td>\n",
       "      <td>1</td>\n",
       "    </tr>\n",
       "    <tr>\n",
       "      <th>3</th>\n",
       "      <td>1</td>\n",
       "      <td>Canada</td>\n",
       "      <td>Canada</td>\n",
       "      <td>31-01-2020</td>\n",
       "      <td>4</td>\n",
       "      <td>0</td>\n",
       "      <td>0</td>\n",
       "      <td>4</td>\n",
       "      <td>NaN</td>\n",
       "      <td>NaN</td>\n",
       "      <td>NaN</td>\n",
       "      <td>NaN</td>\n",
       "      <td>4</td>\n",
       "      <td>4</td>\n",
       "    </tr>\n",
       "    <tr>\n",
       "      <th>4</th>\n",
       "      <td>35</td>\n",
       "      <td>Ontario</td>\n",
       "      <td>Ontario</td>\n",
       "      <td>8/2/2020</td>\n",
       "      <td>3</td>\n",
       "      <td>0</td>\n",
       "      <td>0</td>\n",
       "      <td>3</td>\n",
       "      <td>NaN</td>\n",
       "      <td>NaN</td>\n",
       "      <td>NaN</td>\n",
       "      <td>NaN</td>\n",
       "      <td>0</td>\n",
       "      <td>0</td>\n",
       "    </tr>\n",
       "  </tbody>\n",
       "</table>\n",
       "</div>"
      ],
      "text/plain": [
       "      0                 1                     2           3        4   \\\n",
       "0  pruid            prname              prnameFR        date  numconf   \n",
       "1     35           Ontario               Ontario  31-01-2020        3   \n",
       "2     59  British Columbia  Colombie-Britannique  31-01-2020        1   \n",
       "3      1            Canada                Canada  31-01-2020        4   \n",
       "4     35           Ontario               Ontario    8/2/2020        3   \n",
       "\n",
       "        5          6         7          8           9               10  \\\n",
       "0  numprob  numdeaths  numtotal  numtested  numrecover  percentrecover   \n",
       "1        0          0         3        NaN         NaN             NaN   \n",
       "2        0          0         1        NaN         NaN             NaN   \n",
       "3        0          0         4        NaN         NaN             NaN   \n",
       "4        0          0         3        NaN         NaN             NaN   \n",
       "\n",
       "           11        12           13  \n",
       "0  ratetested  numtoday  percentoday  \n",
       "1         NaN         3            3  \n",
       "2         NaN         1            1  \n",
       "3         NaN         4            4  \n",
       "4         NaN         0            0  "
      ]
     },
     "execution_count": 48,
     "metadata": {},
     "output_type": "execute_result"
    }
   ],
   "source": [
    "# open data folder from cvs file\n",
    "# files are obtained from https://health-infobase.canada.ca/covid-19/\n",
    "path = 'covid19.csv'\n",
    "df = pd.read_csv(path, header=None)\n",
    "df.head()"
   ]
  },
  {
   "cell_type": "code",
   "execution_count": 49,
   "metadata": {
    "scrolled": true
   },
   "outputs": [
    {
     "data": {
      "text/html": [
       "<div>\n",
       "<style scoped>\n",
       "    .dataframe tbody tr th:only-of-type {\n",
       "        vertical-align: middle;\n",
       "    }\n",
       "\n",
       "    .dataframe tbody tr th {\n",
       "        vertical-align: top;\n",
       "    }\n",
       "\n",
       "    .dataframe thead th {\n",
       "        text-align: right;\n",
       "    }\n",
       "</style>\n",
       "<table border=\"1\" class=\"dataframe\">\n",
       "  <thead>\n",
       "    <tr style=\"text-align: right;\">\n",
       "      <th></th>\n",
       "      <th>0</th>\n",
       "      <th>1</th>\n",
       "      <th>3</th>\n",
       "      <th>4</th>\n",
       "      <th>5</th>\n",
       "      <th>6</th>\n",
       "      <th>7</th>\n",
       "      <th>12</th>\n",
       "    </tr>\n",
       "  </thead>\n",
       "  <tbody>\n",
       "    <tr>\n",
       "      <th>1</th>\n",
       "      <td>35</td>\n",
       "      <td>Ontario</td>\n",
       "      <td>31-01-2020</td>\n",
       "      <td>3</td>\n",
       "      <td>0</td>\n",
       "      <td>0</td>\n",
       "      <td>3</td>\n",
       "      <td>3</td>\n",
       "    </tr>\n",
       "    <tr>\n",
       "      <th>2</th>\n",
       "      <td>59</td>\n",
       "      <td>British Columbia</td>\n",
       "      <td>31-01-2020</td>\n",
       "      <td>1</td>\n",
       "      <td>0</td>\n",
       "      <td>0</td>\n",
       "      <td>1</td>\n",
       "      <td>1</td>\n",
       "    </tr>\n",
       "    <tr>\n",
       "      <th>3</th>\n",
       "      <td>1</td>\n",
       "      <td>Canada</td>\n",
       "      <td>31-01-2020</td>\n",
       "      <td>4</td>\n",
       "      <td>0</td>\n",
       "      <td>0</td>\n",
       "      <td>4</td>\n",
       "      <td>4</td>\n",
       "    </tr>\n",
       "    <tr>\n",
       "      <th>4</th>\n",
       "      <td>35</td>\n",
       "      <td>Ontario</td>\n",
       "      <td>8/2/2020</td>\n",
       "      <td>3</td>\n",
       "      <td>0</td>\n",
       "      <td>0</td>\n",
       "      <td>3</td>\n",
       "      <td>0</td>\n",
       "    </tr>\n",
       "    <tr>\n",
       "      <th>5</th>\n",
       "      <td>59</td>\n",
       "      <td>British Columbia</td>\n",
       "      <td>8/2/2020</td>\n",
       "      <td>4</td>\n",
       "      <td>0</td>\n",
       "      <td>0</td>\n",
       "      <td>4</td>\n",
       "      <td>3</td>\n",
       "    </tr>\n",
       "  </tbody>\n",
       "</table>\n",
       "</div>"
      ],
      "text/plain": [
       "   0                 1           3  4  5  6  7  12\n",
       "1  35           Ontario  31-01-2020  3  0  0  3  3\n",
       "2  59  British Columbia  31-01-2020  1  0  0  1  1\n",
       "3   1            Canada  31-01-2020  4  0  0  4  4\n",
       "4  35           Ontario    8/2/2020  3  0  0  3  0\n",
       "5  59  British Columbia    8/2/2020  4  0  0  4  3"
      ]
     },
     "execution_count": 49,
     "metadata": {},
     "output_type": "execute_result"
    }
   ],
   "source": [
    "#reject unwanted naming conventions\n",
    "df.drop(13, axis=1, inplace=True)\n",
    "\n",
    "\n",
    "df.drop(11, axis=1, inplace=True)\n",
    "df.drop(10, axis=1, inplace=True)\n",
    "df.drop(9, axis=1, inplace=True)\n",
    "df.drop(8, axis=1, inplace=True)\n",
    "df.drop(2,axis=1,inplace=True)\n",
    "df.drop(0,axis=0,inplace=True)\n",
    "\n",
    "df.head()"
   ]
  },
  {
   "cell_type": "code",
   "execution_count": 50,
   "metadata": {},
   "outputs": [],
   "source": [
    "#Set header names\n",
    "headers = [\"Province-ID\",\"Province-Name-EN\",\"Date\",\"Confirmed-Cases\", \"Probable-Cases\",\"Deceased\",\n",
    "         \"Total\",\"Total-Today\"]\n",
    "df.columns = headers\n"
   ]
  },
  {
   "cell_type": "code",
   "execution_count": 51,
   "metadata": {},
   "outputs": [
    {
     "name": "stdout",
     "output_type": "stream",
     "text": [
      "Province-ID\n",
      "False    657\n",
      "Name: Province-ID, dtype: int64\n",
      "\n",
      "Province-Name-EN\n",
      "False    657\n",
      "Name: Province-Name-EN, dtype: int64\n",
      "\n",
      "Date\n",
      "False    657\n",
      "Name: Date, dtype: int64\n",
      "\n",
      "Confirmed-Cases\n",
      "False    657\n",
      "Name: Confirmed-Cases, dtype: int64\n",
      "\n",
      "Probable-Cases\n",
      "False    657\n",
      "Name: Probable-Cases, dtype: int64\n",
      "\n",
      "Deceased\n",
      "False    647\n",
      "True      10\n",
      "Name: Deceased, dtype: int64\n",
      "\n",
      "Total\n",
      "False    657\n",
      "Name: Total, dtype: int64\n",
      "\n",
      "Total-Today\n",
      "False    657\n",
      "Name: Total-Today, dtype: int64\n",
      "\n"
     ]
    }
   ],
   "source": [
    "#check for missing data \n",
    "missing_data = df.isnull()\n",
    "\n",
    "#run loop to find number of missing objects\n",
    "for column in missing_data.columns.values.tolist():\n",
    "    print(column)\n",
    "    print(missing_data[column].value_counts())\n",
    "    print()"
   ]
  },
  {
   "cell_type": "code",
   "execution_count": 52,
   "metadata": {},
   "outputs": [],
   "source": [
    "#Remove Repatriated travellers\n",
    "df_1 = df[df['Province-Name-EN'] != 'Repatriated travellers']"
   ]
  },
  {
   "cell_type": "code",
   "execution_count": 54,
   "metadata": {},
   "outputs": [
    {
     "name": "stdout",
     "output_type": "stream",
     "text": [
      "Province-ID\n",
      "False    617\n",
      "Name: Province-ID, dtype: int64\n",
      "\n",
      "Province-Name-EN\n",
      "False    617\n",
      "Name: Province-Name-EN, dtype: int64\n",
      "\n",
      "Date\n",
      "False    617\n",
      "Name: Date, dtype: int64\n",
      "\n",
      "Confirmed-Cases\n",
      "False    617\n",
      "Name: Confirmed-Cases, dtype: int64\n",
      "\n",
      "Probable-Cases\n",
      "False    617\n",
      "Name: Probable-Cases, dtype: int64\n",
      "\n",
      "Deceased\n",
      "False    617\n",
      "Name: Deceased, dtype: int64\n",
      "\n",
      "Total\n",
      "False    617\n",
      "Name: Total, dtype: int64\n",
      "\n",
      "Total-Today\n",
      "False    617\n",
      "Name: Total-Today, dtype: int64\n",
      "\n"
     ]
    }
   ],
   "source": [
    "missing_data_1 = df_1.isnull()\n",
    "for column in missing_data_1.columns.values.tolist():\n",
    "    print(column)\n",
    "    print(missing_data_1[column].value_counts())\n",
    "    print()"
   ]
  },
  {
   "cell_type": "code",
   "execution_count": 44,
   "metadata": {},
   "outputs": [],
   "source": [
    "##replace all the missing information. True values above indicate that there \n",
    "## missing data.\n",
    "\n",
    "##to remove values NaN use df.dropna(subset=[\"Deceased\"], axis=0, inplace = ture)\n",
    "## axis = 0 for entire row\n",
    "## axis = 1 for entire column\n",
    "\n",
    "## to replace missing values like NAN with actual values. used 'replace'\n",
    "## Calulate the mean of the column for Deceased and Precent-Today\n",
    "\n",
    "### examples of different replacement techniques\n",
    "#mean_Deceased = df['Deceased'].mean(skipna=True)\n",
    "#mean_Precent = df['Precent-Today'].mean()\n",
    "\n",
    "## replace the values that are NaN With the mean\n",
    "\n",
    "#df['Total-Today'].replace(np.nan,mean_Total,inplace = True)\n",
    "#df['Deceased'].replace(np.nan,mean_Deceased)\n",
    "#df['Precent-Today'].reaplace(np.nan,mean_Precent)\n"
   ]
  },
  {
   "cell_type": "code",
   "execution_count": 55,
   "metadata": {},
   "outputs": [
    {
     "name": "stderr",
     "output_type": "stream",
     "text": [
      "C:\\Users\\Paul Kot\\anaconda3\\lib\\site-packages\\pandas\\core\\frame.py:2963: SettingWithCopyWarning: \n",
      "A value is trying to be set on a copy of a slice from a DataFrame.\n",
      "Try using .loc[row_indexer,col_indexer] = value instead\n",
      "\n",
      "See the caveats in the documentation: https://pandas.pydata.org/pandas-docs/stable/user_guide/indexing.html#returning-a-view-versus-a-copy\n",
      "  self[k1] = value[k2]\n"
     ]
    }
   ],
   "source": [
    "#change types of data from object to int for example\n",
    "df_1[[\"Province-ID\", \"Confirmed-Cases\",\"Probable-Cases\"]] = df_1[[\"Province-ID\", \"Confirmed-Cases\",\"Probable-Cases\"]].astype(\"int\")\n",
    "df_1[[\"Deceased\",\"Total\",\"Total-Today\"]] = df_1[[\"Deceased\",\"Total\",\"Total-Today\"]].astype(\"int\")\n",
    "#df_1[[\"Date\"]] = df_1[[\"Date\"]].astype(\"datetime64\")\n"
   ]
  },
  {
   "cell_type": "code",
   "execution_count": 56,
   "metadata": {},
   "outputs": [
    {
     "data": {
      "text/plain": [
       "Province-ID          int32\n",
       "Province-Name-EN    object\n",
       "Date                object\n",
       "Confirmed-Cases      int32\n",
       "Probable-Cases       int32\n",
       "Deceased             int32\n",
       "Total                int32\n",
       "Total-Today          int32\n",
       "dtype: object"
      ]
     },
     "execution_count": 56,
     "metadata": {},
     "output_type": "execute_result"
    }
   ],
   "source": [
    "df_1.dtypes\n"
   ]
  },
  {
   "cell_type": "code",
   "execution_count": 57,
   "metadata": {},
   "outputs": [
    {
     "data": {
      "text/html": [
       "<div>\n",
       "<style scoped>\n",
       "    .dataframe tbody tr th:only-of-type {\n",
       "        vertical-align: middle;\n",
       "    }\n",
       "\n",
       "    .dataframe tbody tr th {\n",
       "        vertical-align: top;\n",
       "    }\n",
       "\n",
       "    .dataframe thead th {\n",
       "        text-align: right;\n",
       "    }\n",
       "</style>\n",
       "<table border=\"1\" class=\"dataframe\">\n",
       "  <thead>\n",
       "    <tr style=\"text-align: right;\">\n",
       "      <th></th>\n",
       "      <th>Province-ID</th>\n",
       "      <th>Province-Name-EN</th>\n",
       "      <th>Date</th>\n",
       "      <th>Confirmed-Cases</th>\n",
       "      <th>Probable-Cases</th>\n",
       "      <th>Deceased</th>\n",
       "      <th>Total</th>\n",
       "      <th>Total-Today</th>\n",
       "    </tr>\n",
       "  </thead>\n",
       "  <tbody>\n",
       "    <tr>\n",
       "      <th>1</th>\n",
       "      <td>35</td>\n",
       "      <td>Ontario</td>\n",
       "      <td>31-01-2020</td>\n",
       "      <td>3</td>\n",
       "      <td>0</td>\n",
       "      <td>0</td>\n",
       "      <td>3</td>\n",
       "      <td>3</td>\n",
       "    </tr>\n",
       "    <tr>\n",
       "      <th>2</th>\n",
       "      <td>59</td>\n",
       "      <td>British Columbia</td>\n",
       "      <td>31-01-2020</td>\n",
       "      <td>1</td>\n",
       "      <td>0</td>\n",
       "      <td>0</td>\n",
       "      <td>1</td>\n",
       "      <td>1</td>\n",
       "    </tr>\n",
       "    <tr>\n",
       "      <th>3</th>\n",
       "      <td>1</td>\n",
       "      <td>Canada</td>\n",
       "      <td>31-01-2020</td>\n",
       "      <td>4</td>\n",
       "      <td>0</td>\n",
       "      <td>0</td>\n",
       "      <td>4</td>\n",
       "      <td>4</td>\n",
       "    </tr>\n",
       "    <tr>\n",
       "      <th>4</th>\n",
       "      <td>35</td>\n",
       "      <td>Ontario</td>\n",
       "      <td>8/2/2020</td>\n",
       "      <td>3</td>\n",
       "      <td>0</td>\n",
       "      <td>0</td>\n",
       "      <td>3</td>\n",
       "      <td>0</td>\n",
       "    </tr>\n",
       "    <tr>\n",
       "      <th>5</th>\n",
       "      <td>59</td>\n",
       "      <td>British Columbia</td>\n",
       "      <td>8/2/2020</td>\n",
       "      <td>4</td>\n",
       "      <td>0</td>\n",
       "      <td>0</td>\n",
       "      <td>4</td>\n",
       "      <td>3</td>\n",
       "    </tr>\n",
       "  </tbody>\n",
       "</table>\n",
       "</div>"
      ],
      "text/plain": [
       "   Province-ID  Province-Name-EN        Date  Confirmed-Cases  Probable-Cases  \\\n",
       "1           35           Ontario  31-01-2020                3               0   \n",
       "2           59  British Columbia  31-01-2020                1               0   \n",
       "3            1            Canada  31-01-2020                4               0   \n",
       "4           35           Ontario    8/2/2020                3               0   \n",
       "5           59  British Columbia    8/2/2020                4               0   \n",
       "\n",
       "   Deceased  Total  Total-Today  \n",
       "1         0      3            3  \n",
       "2         0      1            1  \n",
       "3         0      4            4  \n",
       "4         0      3            0  \n",
       "5         0      4            3  "
      ]
     },
     "execution_count": 57,
     "metadata": {},
     "output_type": "execute_result"
    }
   ],
   "source": [
    "df_1.head()"
   ]
  },
  {
   "cell_type": "code",
   "execution_count": 58,
   "metadata": {},
   "outputs": [
    {
     "data": {
      "text/html": [
       "<div>\n",
       "<style scoped>\n",
       "    .dataframe tbody tr th:only-of-type {\n",
       "        vertical-align: middle;\n",
       "    }\n",
       "\n",
       "    .dataframe tbody tr th {\n",
       "        vertical-align: top;\n",
       "    }\n",
       "\n",
       "    .dataframe thead th {\n",
       "        text-align: right;\n",
       "    }\n",
       "</style>\n",
       "<table border=\"1\" class=\"dataframe\">\n",
       "  <thead>\n",
       "    <tr style=\"text-align: right;\">\n",
       "      <th></th>\n",
       "      <th>Province-ID</th>\n",
       "      <th>Confirmed-Cases</th>\n",
       "      <th>Probable-Cases</th>\n",
       "      <th>Deceased</th>\n",
       "      <th>Total</th>\n",
       "      <th>Total-Today</th>\n",
       "    </tr>\n",
       "  </thead>\n",
       "  <tbody>\n",
       "    <tr>\n",
       "      <th>count</th>\n",
       "      <td>617.000000</td>\n",
       "      <td>617.000000</td>\n",
       "      <td>617.000000</td>\n",
       "      <td>617.000000</td>\n",
       "      <td>617.000000</td>\n",
       "      <td>617.000000</td>\n",
       "    </tr>\n",
       "    <tr>\n",
       "      <th>mean</th>\n",
       "      <td>34.593193</td>\n",
       "      <td>1515.779579</td>\n",
       "      <td>6.333874</td>\n",
       "      <td>42.891410</td>\n",
       "      <td>1522.110211</td>\n",
       "      <td>109.935170</td>\n",
       "    </tr>\n",
       "    <tr>\n",
       "      <th>std</th>\n",
       "      <td>21.698753</td>\n",
       "      <td>4571.931436</td>\n",
       "      <td>52.375722</td>\n",
       "      <td>160.739998</td>\n",
       "      <td>4573.675587</td>\n",
       "      <td>288.158037</td>\n",
       "    </tr>\n",
       "    <tr>\n",
       "      <th>min</th>\n",
       "      <td>1.000000</td>\n",
       "      <td>0.000000</td>\n",
       "      <td>0.000000</td>\n",
       "      <td>0.000000</td>\n",
       "      <td>0.000000</td>\n",
       "      <td>-1.000000</td>\n",
       "    </tr>\n",
       "    <tr>\n",
       "      <th>25%</th>\n",
       "      <td>12.000000</td>\n",
       "      <td>4.000000</td>\n",
       "      <td>0.000000</td>\n",
       "      <td>0.000000</td>\n",
       "      <td>5.000000</td>\n",
       "      <td>0.000000</td>\n",
       "    </tr>\n",
       "    <tr>\n",
       "      <th>50%</th>\n",
       "      <td>35.000000</td>\n",
       "      <td>59.000000</td>\n",
       "      <td>0.000000</td>\n",
       "      <td>0.000000</td>\n",
       "      <td>62.000000</td>\n",
       "      <td>3.000000</td>\n",
       "    </tr>\n",
       "    <tr>\n",
       "      <th>75%</th>\n",
       "      <td>59.000000</td>\n",
       "      <td>407.000000</td>\n",
       "      <td>0.000000</td>\n",
       "      <td>4.000000</td>\n",
       "      <td>424.000000</td>\n",
       "      <td>31.000000</td>\n",
       "    </tr>\n",
       "    <tr>\n",
       "      <th>max</th>\n",
       "      <td>62.000000</td>\n",
       "      <td>33909.000000</td>\n",
       "      <td>833.000000</td>\n",
       "      <td>1506.000000</td>\n",
       "      <td>33922.000000</td>\n",
       "      <td>1792.000000</td>\n",
       "    </tr>\n",
       "  </tbody>\n",
       "</table>\n",
       "</div>"
      ],
      "text/plain": [
       "       Province-ID  Confirmed-Cases  Probable-Cases     Deceased  \\\n",
       "count   617.000000       617.000000      617.000000   617.000000   \n",
       "mean     34.593193      1515.779579        6.333874    42.891410   \n",
       "std      21.698753      4571.931436       52.375722   160.739998   \n",
       "min       1.000000         0.000000        0.000000     0.000000   \n",
       "25%      12.000000         4.000000        0.000000     0.000000   \n",
       "50%      35.000000        59.000000        0.000000     0.000000   \n",
       "75%      59.000000       407.000000        0.000000     4.000000   \n",
       "max      62.000000     33909.000000      833.000000  1506.000000   \n",
       "\n",
       "              Total  Total-Today  \n",
       "count    617.000000   617.000000  \n",
       "mean    1522.110211   109.935170  \n",
       "std     4573.675587   288.158037  \n",
       "min        0.000000    -1.000000  \n",
       "25%        5.000000     0.000000  \n",
       "50%       62.000000     3.000000  \n",
       "75%      424.000000    31.000000  \n",
       "max    33922.000000  1792.000000  "
      ]
     },
     "execution_count": 58,
     "metadata": {},
     "output_type": "execute_result"
    }
   ],
   "source": [
    "#not apparetly useful at this time, However, include for self understanding\n",
    "df_1.describe()"
   ]
  },
  {
   "cell_type": "code",
   "execution_count": 59,
   "metadata": {},
   "outputs": [
    {
     "data": {
      "text/html": [
       "<div>\n",
       "<style scoped>\n",
       "    .dataframe tbody tr th:only-of-type {\n",
       "        vertical-align: middle;\n",
       "    }\n",
       "\n",
       "    .dataframe tbody tr th {\n",
       "        vertical-align: top;\n",
       "    }\n",
       "\n",
       "    .dataframe thead th {\n",
       "        text-align: right;\n",
       "    }\n",
       "</style>\n",
       "<table border=\"1\" class=\"dataframe\">\n",
       "  <thead>\n",
       "    <tr style=\"text-align: right;\">\n",
       "      <th></th>\n",
       "      <th>value_counts</th>\n",
       "    </tr>\n",
       "    <tr>\n",
       "      <th>Province-Name-EN</th>\n",
       "      <th></th>\n",
       "    </tr>\n",
       "  </thead>\n",
       "  <tbody>\n",
       "    <tr>\n",
       "      <th>British Columbia</th>\n",
       "      <td>56</td>\n",
       "    </tr>\n",
       "    <tr>\n",
       "      <th>Canada</th>\n",
       "      <td>56</td>\n",
       "    </tr>\n",
       "    <tr>\n",
       "      <th>Ontario</th>\n",
       "      <td>56</td>\n",
       "    </tr>\n",
       "    <tr>\n",
       "      <th>Quebec</th>\n",
       "      <td>47</td>\n",
       "    </tr>\n",
       "    <tr>\n",
       "      <th>Alberta</th>\n",
       "      <td>42</td>\n",
       "    </tr>\n",
       "    <tr>\n",
       "      <th>Nova Scotia</th>\n",
       "      <td>40</td>\n",
       "    </tr>\n",
       "    <tr>\n",
       "      <th>Saskatchewan</th>\n",
       "      <td>40</td>\n",
       "    </tr>\n",
       "    <tr>\n",
       "      <th>New Brunswick</th>\n",
       "      <td>40</td>\n",
       "    </tr>\n",
       "    <tr>\n",
       "      <th>Prince Edward Island</th>\n",
       "      <td>40</td>\n",
       "    </tr>\n",
       "    <tr>\n",
       "      <th>Yukon</th>\n",
       "      <td>40</td>\n",
       "    </tr>\n",
       "    <tr>\n",
       "      <th>Northwest Territories</th>\n",
       "      <td>40</td>\n",
       "    </tr>\n",
       "    <tr>\n",
       "      <th>Manitoba</th>\n",
       "      <td>40</td>\n",
       "    </tr>\n",
       "    <tr>\n",
       "      <th>Newfoundland and Labrador</th>\n",
       "      <td>40</td>\n",
       "    </tr>\n",
       "    <tr>\n",
       "      <th>Nunavut</th>\n",
       "      <td>40</td>\n",
       "    </tr>\n",
       "  </tbody>\n",
       "</table>\n",
       "</div>"
      ],
      "text/plain": [
       "                           value_counts\n",
       "Province-Name-EN                       \n",
       "British Columbia                     56\n",
       "Canada                               56\n",
       "Ontario                              56\n",
       "Quebec                               47\n",
       "Alberta                              42\n",
       "Nova Scotia                          40\n",
       "Saskatchewan                         40\n",
       "New Brunswick                        40\n",
       "Prince Edward Island                 40\n",
       "Yukon                                40\n",
       "Northwest Territories                40\n",
       "Manitoba                             40\n",
       "Newfoundland and Labrador            40\n",
       "Nunavut                              40"
      ]
     },
     "execution_count": 59,
     "metadata": {},
     "output_type": "execute_result"
    }
   ],
   "source": [
    "#catagorical data\n",
    "\n",
    "province_counts = df_1[\"Province-Name-EN\"].value_counts().to_frame()\n",
    "province_counts.rename(columns={'Province-Name-EN': 'value_counts'}, inplace=True)\n",
    "\n",
    "province_counts.index.name = 'Province-Name-EN'\n",
    "province_counts"
   ]
  },
  {
   "cell_type": "code",
   "execution_count": 60,
   "metadata": {},
   "outputs": [
    {
     "data": {
      "text/plain": [
       "array([35, 59,  1, 24, 48, 47, 46, 13, 10, 12, 11, 60, 61, 62])"
      ]
     },
     "execution_count": 60,
     "metadata": {},
     "output_type": "execute_result"
    }
   ],
   "source": [
    "df_1['Province-ID'].unique()\n"
   ]
  },
  {
   "cell_type": "code",
   "execution_count": 61,
   "metadata": {},
   "outputs": [
    {
     "data": {
      "text/plain": [
       "array(['Ontario', 'British Columbia', 'Canada', 'Quebec', 'Alberta',\n",
       "       'Saskatchewan', 'Manitoba', 'New Brunswick',\n",
       "       'Newfoundland and Labrador', 'Nova Scotia', 'Prince Edward Island',\n",
       "       'Yukon', 'Northwest Territories', 'Nunavut'], dtype=object)"
      ]
     },
     "execution_count": 61,
     "metadata": {},
     "output_type": "execute_result"
    }
   ],
   "source": [
    "df_1['Province-Name-EN'].unique()"
   ]
  },
  {
   "cell_type": "code",
   "execution_count": 62,
   "metadata": {},
   "outputs": [
    {
     "data": {
      "text/html": [
       "<div>\n",
       "<style scoped>\n",
       "    .dataframe tbody tr th:only-of-type {\n",
       "        vertical-align: middle;\n",
       "    }\n",
       "\n",
       "    .dataframe tbody tr th {\n",
       "        vertical-align: top;\n",
       "    }\n",
       "\n",
       "    .dataframe thead th {\n",
       "        text-align: right;\n",
       "    }\n",
       "</style>\n",
       "<table border=\"1\" class=\"dataframe\">\n",
       "  <thead>\n",
       "    <tr style=\"text-align: right;\">\n",
       "      <th></th>\n",
       "      <th>Province-ID</th>\n",
       "      <th>Date</th>\n",
       "      <th>Confirmed-Cases</th>\n",
       "      <th>Probable-Cases</th>\n",
       "      <th>Deceased</th>\n",
       "      <th>Total</th>\n",
       "      <th>Total-Today</th>\n",
       "    </tr>\n",
       "    <tr>\n",
       "      <th>Province-Name-EN</th>\n",
       "      <th></th>\n",
       "      <th></th>\n",
       "      <th></th>\n",
       "      <th></th>\n",
       "      <th></th>\n",
       "      <th></th>\n",
       "      <th></th>\n",
       "    </tr>\n",
       "  </thead>\n",
       "  <tbody>\n",
       "    <tr>\n",
       "      <th>Ontario</th>\n",
       "      <td>35</td>\n",
       "      <td>31-01-2020</td>\n",
       "      <td>3</td>\n",
       "      <td>0</td>\n",
       "      <td>0</td>\n",
       "      <td>3</td>\n",
       "      <td>3</td>\n",
       "    </tr>\n",
       "    <tr>\n",
       "      <th>British Columbia</th>\n",
       "      <td>59</td>\n",
       "      <td>31-01-2020</td>\n",
       "      <td>1</td>\n",
       "      <td>0</td>\n",
       "      <td>0</td>\n",
       "      <td>1</td>\n",
       "      <td>1</td>\n",
       "    </tr>\n",
       "    <tr>\n",
       "      <th>Canada</th>\n",
       "      <td>1</td>\n",
       "      <td>31-01-2020</td>\n",
       "      <td>4</td>\n",
       "      <td>0</td>\n",
       "      <td>0</td>\n",
       "      <td>4</td>\n",
       "      <td>4</td>\n",
       "    </tr>\n",
       "    <tr>\n",
       "      <th>Ontario</th>\n",
       "      <td>35</td>\n",
       "      <td>8/2/2020</td>\n",
       "      <td>3</td>\n",
       "      <td>0</td>\n",
       "      <td>0</td>\n",
       "      <td>3</td>\n",
       "      <td>0</td>\n",
       "    </tr>\n",
       "    <tr>\n",
       "      <th>British Columbia</th>\n",
       "      <td>59</td>\n",
       "      <td>8/2/2020</td>\n",
       "      <td>4</td>\n",
       "      <td>0</td>\n",
       "      <td>0</td>\n",
       "      <td>4</td>\n",
       "      <td>3</td>\n",
       "    </tr>\n",
       "  </tbody>\n",
       "</table>\n",
       "</div>"
      ],
      "text/plain": [
       "                  Province-ID        Date  Confirmed-Cases  Probable-Cases  \\\n",
       "Province-Name-EN                                                             \n",
       "Ontario                    35  31-01-2020                3               0   \n",
       "British Columbia           59  31-01-2020                1               0   \n",
       "Canada                      1  31-01-2020                4               0   \n",
       "Ontario                    35    8/2/2020                3               0   \n",
       "British Columbia           59    8/2/2020                4               0   \n",
       "\n",
       "                  Deceased  Total  Total-Today  \n",
       "Province-Name-EN                                \n",
       "Ontario                  0      3            3  \n",
       "British Columbia         0      1            1  \n",
       "Canada                   0      4            4  \n",
       "Ontario                  0      3            0  \n",
       "British Columbia         0      4            3  "
      ]
     },
     "execution_count": 62,
     "metadata": {},
     "output_type": "execute_result"
    }
   ],
   "source": [
    "#df_group_one = df[['Province-Name-EN','Date','Confirmed-Cases']]\n",
    "df_1.set_index(\"Province-Name-EN\", inplace=True)\n",
    "df_1.head()\n"
   ]
  },
  {
   "cell_type": "code",
   "execution_count": 63,
   "metadata": {},
   "outputs": [],
   "source": [
    "# set DF for specific provinces\n",
    "BC = df_1.loc['British Columbia']\n",
    "AB = df_1.loc['Alberta']\n",
    "SK = df_1.loc['Saskatchewan']\n",
    "MB = df_1.loc['Manitoba']\n",
    "ON = df_1.loc['Ontario']\n",
    "QC = df_1.loc['Quebec']\n",
    "CN = df_1.loc['Canada']"
   ]
  },
  {
   "cell_type": "code",
   "execution_count": 64,
   "metadata": {},
   "outputs": [
    {
     "name": "stdout",
     "output_type": "stream",
     "text": [
      "[16 17 18 19 20 21 22 23 24 25 26 27 28 29 30 31 32 33 34 35 36 37 38 39\n",
      " 40 41 42 43 44 45 46 47 48 49 50 51 52 53 54 56]\n"
     ]
    }
   ],
   "source": [
    "#determine numebr of days for each province\n",
    "BC_days = np.linspace(0,len(BC['Date'].index),len(BC['Date'].index)).astype('int')\n",
    "ON_days = np.linspace(0,len(ON['Date'].index),len(ON['Date'].index)).astype('int')\n",
    "QC_days = np.linspace(0,len(QC['Date'].index),len(QC['Date'].index)).astype('int') + 9\n",
    "AB_days = np.linspace(0,len(AB['Date'].index),len(AB['Date'].index)).astype('int') + 14\n",
    "SK_days = np.linspace(0,len(SK['Date'].index),len(SK['Date'].index)).astype('int') + 16\n",
    "MB_days = np.linspace(0,len(MB['Date'].index),len(MB['Date'].index)).astype('int') + 16\n",
    "\n",
    "\n",
    "\n",
    "CN_days = np.linspace(0,len(CN['Date'].index),len(CN['Date'].index)).astype('int')\n",
    "print(MB_days)"
   ]
  },
  {
   "cell_type": "code",
   "execution_count": 65,
   "metadata": {},
   "outputs": [
    {
     "data": {
      "image/png": "[encoded data removed]",
      "text/plain": [
       "<Figure size 432x288 with 1 Axes>"
      ]
     },
     "metadata": {
      "needs_background": "light"
     },
     "output_type": "display_data"
    }
   ],
   "source": [
    "#develop plots for data. Linear plot\n",
    "import matplotlib.pyplot as plt\n",
    "fig=plt.figure()\n",
    "ax=fig.add_axes([0,0,1,1])\n",
    "BC_Graph = ax.scatter(CN_days, BC['Confirmed-Cases'], color='blue')\n",
    "BC_Graph.set_label('BC Cases')\n",
    "ON_Graph = ax.scatter(CN_days, ON['Confirmed-Cases'], color='pink')\n",
    "ON_Graph.set_label('ON Cases')\n",
    "QC_Graph = ax.scatter(QC_days, QC['Confirmed-Cases'], color='g')\n",
    "QC_Graph.set_label('QC Cases')\n",
    "SK_Graph = ax.scatter(SK_days, SK['Confirmed-Cases'], color='orange')\n",
    "SK_Graph.set_label('SK Cases')\n",
    "AB_Graph = ax.scatter(AB_days, AB['Confirmed-Cases'], color='red')\n",
    "SK_Graph.set_label('AB Cases')\n",
    "CN_Graph = ax.scatter(CN_days, CN['Confirmed-Cases'], color='black')\n",
    "CN_Graph.set_label('Total CN Cases')\n",
    "\n",
    "ax.set_xlabel('Time (days)')\n",
    "ax.set_ylabel('Confirmed Cases')\n",
    "ax.set_title('Confirmed cases per province vs time')\n",
    "ax.legend()\n",
    "plt.show()"
   ]
  },
  {
   "cell_type": "code",
   "execution_count": 78,
   "metadata": {},
   "outputs": [
    {
     "ename": "AttributeError",
     "evalue": "module 'matplotlib.pyplot' has no attribute 'set_xlabel'",
     "output_type": "error",
     "traceback": [
      "\u001b[1;31m---------------------------------------------------------------------------\u001b[0m",
      "\u001b[1;31mAttributeError\u001b[0m                            Traceback (most recent call last)",
      "\u001b[1;32m<ipython-input-78-2e3c9030ed48>\u001b[0m in \u001b[0;36m<module>\u001b[1;34m\u001b[0m\n\u001b[0;32m     15\u001b[0m \u001b[1;33m\u001b[0m\u001b[0m\n\u001b[0;32m     16\u001b[0m \u001b[1;33m\u001b[0m\u001b[0m\n\u001b[1;32m---> 17\u001b[1;33m \u001b[0mplt\u001b[0m\u001b[1;33m.\u001b[0m\u001b[0mset_xlabel\u001b[0m\u001b[1;33m(\u001b[0m\u001b[1;34m'Time (days)'\u001b[0m\u001b[1;33m)\u001b[0m\u001b[1;33m\u001b[0m\u001b[1;33m\u001b[0m\u001b[0m\n\u001b[0m\u001b[0;32m     18\u001b[0m \u001b[0mplt\u001b[0m\u001b[1;33m.\u001b[0m\u001b[0mset_ylabel\u001b[0m\u001b[1;33m(\u001b[0m\u001b[1;34m'Confirmed Cases'\u001b[0m\u001b[1;33m)\u001b[0m\u001b[1;33m\u001b[0m\u001b[1;33m\u001b[0m\u001b[0m\n\u001b[0;32m     19\u001b[0m \u001b[0mplt\u001b[0m\u001b[1;33m.\u001b[0m\u001b[0mset_title\u001b[0m\u001b[1;33m(\u001b[0m\u001b[1;34m'Confirmed cases per province vs time'\u001b[0m\u001b[1;33m)\u001b[0m\u001b[1;33m\u001b[0m\u001b[1;33m\u001b[0m\u001b[0m\n",
      "\u001b[1;31mAttributeError\u001b[0m: module 'matplotlib.pyplot' has no attribute 'set_xlabel'"
     ]
    },
    {
     "data": {
      "image/png": "[encoded data removed]",
      "text/plain": [
       "<Figure size 432x288 with 1 Axes>"
      ]
     },
     "metadata": {
      "needs_background": "light"
     },
     "output_type": "display_data"
    }
   ],
   "source": [
    "import matplotlib.pyplot as plt\n",
    "fig=plt.figure()\n",
    "#ax=fig.add_axes([0,0,1,1])\n",
    "plt.plot(CN_days, BC['Total-Today'], color='blue')\n",
    "\n",
    "plt.plot(CN_days, ON['Total-Today'], color='pink')\n",
    "\n",
    "plt.plot(QC_days, QC['Total-Today'], color='g')\n",
    "\n",
    "plt.plot(SK_days, SK['Total-Today'], color='orange')\n",
    "\n",
    "plt.plot(AB_days, AB['Total-Today'], color='red')\n",
    "\n",
    "plt.plot(CN_days, CN['Total-Today'], color='black')\n",
    "\n",
    "\n",
    "plt.set_xlabel('Time (days)')\n",
    "plt.set_ylabel('Confirmed Cases')\n",
    "plt.set_title('Confirmed cases per province vs time')\n",
    "plt.legend()\n",
    "plt.show()"
   ]
  },
  {
   "cell_type": "code",
   "execution_count": 66,
   "metadata": {},
   "outputs": [
    {
     "name": "stderr",
     "output_type": "stream",
     "text": [
      "C:\\Users\\Paul Kot\\anaconda3\\lib\\site-packages\\pandas\\core\\series.py:679: RuntimeWarning: divide by zero encountered in log\n",
      "  result = getattr(ufunc, method)(*inputs, **kwargs)\n"
     ]
    },
    {
     "data": {
      "image/png": "[encoded data removed]",
      "text/plain": [
       "<Figure size 432x288 with 1 Axes>"
      ]
     },
     "metadata": {
      "needs_background": "light"
     },
     "output_type": "display_data"
    }
   ],
   "source": [
    "#develop logrithmic plot\n",
    "fig1=plt.figure()\n",
    "ax1=fig1.add_axes([0,0,1,1])\n",
    "BC_Graph = ax1.scatter(CN_days, np.log(BC['Confirmed-Cases']), color='blue')\n",
    "BC_Graph.set_label('BC Cases')\n",
    "ON_Graph = ax1.scatter(CN_days, np.log(ON['Confirmed-Cases']), color='pink')\n",
    "ON_Graph.set_label('ON Cases')\n",
    "QC_Graph = ax1.scatter(QC_days, np.log(QC['Confirmed-Cases']), color='g')\n",
    "QC_Graph.set_label('QC Cases')\n",
    "SK_Graph = ax1.scatter(SK_days, np.log(SK['Confirmed-Cases']), color='orange')\n",
    "SK_Graph.set_label('SK Cases')\n",
    "AB_Graph = ax1.scatter(AB_days, np.log(AB['Confirmed-Cases']), color='red')\n",
    "SK_Graph.set_label('AB Cases')\n",
    "CN_Graph = ax1.scatter(CN_days, np.log(CN['Confirmed-Cases']), color='black')\n",
    "CN_Graph.set_label('Total CN Cases')\n",
    "\n",
    "ax1.set_xlabel('Time (days)')\n",
    "ax1.set_ylabel('Confirmed Cases')\n",
    "ax1.set_title('Confirmed cases per province vs time')\n",
    "ax1.legend()\n",
    "plt.show()"
   ]
  },
  {
   "cell_type": "code",
   "execution_count": 74,
   "metadata": {},
   "outputs": [
    {
     "data": {
      "image/png": "[encoded data removed]",
      "text/plain": [
       "<Figure size 432x288 with 1 Axes>"
      ]
     },
     "metadata": {
      "needs_background": "light"
     },
     "output_type": "display_data"
    }
   ],
   "source": [
    "\n",
    "fig2=plt.figure()\n",
    "ax2=fig2.add_axes([0,0,1,1])\n",
    "CN_Graph = ax2.bar(CN_days, CN['Total-Today'])\n",
    "CN_Graph.set_label('Total CN Cases')\n",
    "\n",
    "ax2.set_xlabel('Time (days)')\n",
    "ax2.set_ylabel('Number Confirmed Cases Per Day')\n",
    "ax2.set_title('Number of Cases per day (Canada)')\n",
    "\n",
    "plt.show()"
   ]
  },
  {
   "cell_type": "code",
   "execution_count": 75,
   "metadata": {},
   "outputs": [
    {
     "data": {
      "image/png": "[encoded data removed]",
      "text/plain": [
       "<Figure size 432x288 with 1 Axes>"
      ]
     },
     "metadata": {
      "needs_background": "light"
     },
     "output_type": "display_data"
    }
   ],
   "source": [
    "fig3=plt.figure()\n",
    "ax3=fig3.add_axes([0,0,1,1])\n",
    "ax3.bar(CN_days, BC['Total-Today'])\n",
    "\n",
    "ax3.set_xlabel('Time (days)')\n",
    "ax3.set_ylabel('Confirmed Cases')\n",
    "ax3.set_title('Number of Cases per day (bc)')\n",
    "\n",
    "plt.show()"
   ]
  },
  {
   "cell_type": "code",
   "execution_count": null,
   "metadata": {},
   "outputs": [],
   "source": []
  }
 ],
 "metadata": {
  "kernelspec": {
   "display_name": "Python 3",
   "language": "python",
   "name": "python3"
  },
  "language_info": {
   "codemirror_mode": {
    "name": "ipython",
    "version": 3
   },
   "file_extension": ".py",
   "mimetype": "text/x-python",
   "name": "python",
   "nbconvert_exporter": "python",
   "pygments_lexer": "ipython3",
   "version": "3.7.6"
  }
 },
 "nbformat": 4,
 "nbformat_minor": 4
}
