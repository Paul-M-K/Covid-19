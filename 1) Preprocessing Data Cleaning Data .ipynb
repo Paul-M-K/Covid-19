{
 "cells": [
  {
   "cell_type": "markdown",
   "metadata": {},
   "source": [
    "# COVID - 19 Project #\n",
    "\n",
    "The goal os the project is to understand this dataset, gain some insight from it. Finally to utilize sklearn to train some models of covid and make predictions.\n",
    "\n",
    "the data set is from https://health-infobase.canada.ca/covid-19/ which consists of data related to COVID-19. There are several variables such as number of cases per day, deaths per day, provincial rates and many others. "
   ]
  },
  {
   "cell_type": "markdown",
   "metadata": {},
   "source": [
    "# 1) Setup #\n",
    "\n",
    "Setup we will be importing linbraries, files, preliminary data analysis to get a better understanding of the data we will be working with. "
   ]
  },
  {
   "cell_type": "code",
   "execution_count": 21,
   "metadata": {},
   "outputs": [],
   "source": [
    "# import all the libraries, Pandas (data processing)\n",
    "import pandas as pd\n",
    "import matplotlib.pyplot as plt\n",
    "import numpy as np\n",
    "import seaborn as sns\n",
    "import datetime as dt\n",
    "\n",
    "#import linear model for linearregression and polynomial\n",
    "from sklearn.linear_model import LinearRegression\n",
    "from sklearn.preprocessing import PolynomialFeatures\n",
    "from sklearn.metrics import mean_squared_error\n",
    "from sklearn.linear_model import LogisticRegression\n",
    "from sklearn.model_selection import train_test_split\n",
    "from sklearn.model_selection import cross_val_score\n",
    "from sklearn import metrics\n",
    "from sklearn.metrics import r2_score"
   ]
  },
  {
   "cell_type": "markdown",
   "metadata": {},
   "source": [
    "#### Import data ####\n",
    "\n",
    "Download .csv file from https://health-infobase.canada.ca/covid-19/ to follow along."
   ]
  },
  {
   "cell_type": "code",
   "execution_count": 22,
   "metadata": {
    "scrolled": true
   },
   "outputs": [],
   "source": [
    "# open data folder from .cvs file. files are obtained from https://health-infobase.canada.ca/covid-19/\n",
    "path = 'covid19.csv'\n",
    "\n",
    "#place data into a DataFrame\n",
    "df = pd.read_csv(path, header=None)"
   ]
  },
  {
   "cell_type": "markdown",
   "metadata": {},
   "source": [
    "#### Data Description #### \n",
    "\n",
    "Show data header"
   ]
  },
  {
   "cell_type": "code",
   "execution_count": 23,
   "metadata": {},
   "outputs": [
    {
     "data": {
      "text/html": [
       "<div>\n",
       "<style scoped>\n",
       "    .dataframe tbody tr th:only-of-type {\n",
       "        vertical-align: middle;\n",
       "    }\n",
       "\n",
       "    .dataframe tbody tr th {\n",
       "        vertical-align: top;\n",
       "    }\n",
       "\n",
       "    .dataframe thead th {\n",
       "        text-align: right;\n",
       "    }\n",
       "</style>\n",
       "<table border=\"1\" class=\"dataframe\">\n",
       "  <thead>\n",
       "    <tr style=\"text-align: right;\">\n",
       "      <th></th>\n",
       "      <th>0</th>\n",
       "      <th>1</th>\n",
       "      <th>2</th>\n",
       "      <th>3</th>\n",
       "      <th>4</th>\n",
       "      <th>5</th>\n",
       "      <th>6</th>\n",
       "      <th>7</th>\n",
       "      <th>8</th>\n",
       "      <th>9</th>\n",
       "      <th>10</th>\n",
       "      <th>11</th>\n",
       "      <th>12</th>\n",
       "      <th>13</th>\n",
       "    </tr>\n",
       "  </thead>\n",
       "  <tbody>\n",
       "    <tr>\n",
       "      <th>0</th>\n",
       "      <td>pruid</td>\n",
       "      <td>prname</td>\n",
       "      <td>prnameFR</td>\n",
       "      <td>date</td>\n",
       "      <td>numconf</td>\n",
       "      <td>numprob</td>\n",
       "      <td>numdeaths</td>\n",
       "      <td>numtotal</td>\n",
       "      <td>numtested</td>\n",
       "      <td>numrecover</td>\n",
       "      <td>percentrecover</td>\n",
       "      <td>ratetested</td>\n",
       "      <td>numtoday</td>\n",
       "      <td>percentoday</td>\n",
       "    </tr>\n",
       "    <tr>\n",
       "      <th>1</th>\n",
       "      <td>35</td>\n",
       "      <td>Ontario</td>\n",
       "      <td>Ontario</td>\n",
       "      <td>31-01-2020</td>\n",
       "      <td>3</td>\n",
       "      <td>0</td>\n",
       "      <td>0</td>\n",
       "      <td>3</td>\n",
       "      <td>NaN</td>\n",
       "      <td>NaN</td>\n",
       "      <td>NaN</td>\n",
       "      <td>NaN</td>\n",
       "      <td>3</td>\n",
       "      <td>3</td>\n",
       "    </tr>\n",
       "    <tr>\n",
       "      <th>2</th>\n",
       "      <td>59</td>\n",
       "      <td>British Columbia</td>\n",
       "      <td>Colombie-Britannique</td>\n",
       "      <td>31-01-2020</td>\n",
       "      <td>1</td>\n",
       "      <td>0</td>\n",
       "      <td>0</td>\n",
       "      <td>1</td>\n",
       "      <td>NaN</td>\n",
       "      <td>NaN</td>\n",
       "      <td>NaN</td>\n",
       "      <td>NaN</td>\n",
       "      <td>1</td>\n",
       "      <td>1</td>\n",
       "    </tr>\n",
       "    <tr>\n",
       "      <th>3</th>\n",
       "      <td>1</td>\n",
       "      <td>Canada</td>\n",
       "      <td>Canada</td>\n",
       "      <td>31-01-2020</td>\n",
       "      <td>4</td>\n",
       "      <td>0</td>\n",
       "      <td>0</td>\n",
       "      <td>4</td>\n",
       "      <td>NaN</td>\n",
       "      <td>NaN</td>\n",
       "      <td>NaN</td>\n",
       "      <td>NaN</td>\n",
       "      <td>4</td>\n",
       "      <td>4</td>\n",
       "    </tr>\n",
       "    <tr>\n",
       "      <th>4</th>\n",
       "      <td>35</td>\n",
       "      <td>Ontario</td>\n",
       "      <td>Ontario</td>\n",
       "      <td>2020-02-08</td>\n",
       "      <td>3</td>\n",
       "      <td>0</td>\n",
       "      <td>0</td>\n",
       "      <td>3</td>\n",
       "      <td>NaN</td>\n",
       "      <td>NaN</td>\n",
       "      <td>NaN</td>\n",
       "      <td>NaN</td>\n",
       "      <td>0</td>\n",
       "      <td>0</td>\n",
       "    </tr>\n",
       "  </tbody>\n",
       "</table>\n",
       "</div>"
      ],
      "text/plain": [
       "      0                 1                     2           3        4   \\\n",
       "0  pruid            prname              prnameFR        date  numconf   \n",
       "1     35           Ontario               Ontario  31-01-2020        3   \n",
       "2     59  British Columbia  Colombie-Britannique  31-01-2020        1   \n",
       "3      1            Canada                Canada  31-01-2020        4   \n",
       "4     35           Ontario               Ontario  2020-02-08        3   \n",
       "\n",
       "        5          6         7          8           9               10  \\\n",
       "0  numprob  numdeaths  numtotal  numtested  numrecover  percentrecover   \n",
       "1        0          0         3        NaN         NaN             NaN   \n",
       "2        0          0         1        NaN         NaN             NaN   \n",
       "3        0          0         4        NaN         NaN             NaN   \n",
       "4        0          0         3        NaN         NaN             NaN   \n",
       "\n",
       "           11        12           13  \n",
       "0  ratetested  numtoday  percentoday  \n",
       "1         NaN         3            3  \n",
       "2         NaN         1            1  \n",
       "3         NaN         4            4  \n",
       "4         NaN         0            0  "
      ]
     },
     "execution_count": 23,
     "metadata": {},
     "output_type": "execute_result"
    }
   ],
   "source": [
    "df.head()"
   ]
  },
  {
   "cell_type": "markdown",
   "metadata": {},
   "source": [
    "#### Data information ####"
   ]
  },
  {
   "cell_type": "code",
   "execution_count": 24,
   "metadata": {},
   "outputs": [
    {
     "name": "stdout",
     "output_type": "stream",
     "text": [
      "<class 'pandas.core.frame.DataFrame'>\n",
      "RangeIndex: 658 entries, 0 to 657\n",
      "Data columns (total 14 columns):\n",
      " #   Column  Non-Null Count  Dtype \n",
      "---  ------  --------------  ----- \n",
      " 0   0       658 non-null    object\n",
      " 1   1       658 non-null    object\n",
      " 2   2       658 non-null    object\n",
      " 3   3       658 non-null    object\n",
      " 4   4       658 non-null    object\n",
      " 5   5       658 non-null    object\n",
      " 6   6       648 non-null    object\n",
      " 7   7       658 non-null    object\n",
      " 8   8       587 non-null    object\n",
      " 9   9       59 non-null     object\n",
      " 10  10      55 non-null     object\n",
      " 11  11      1 non-null      object\n",
      " 12  12      658 non-null    object\n",
      " 13  13      628 non-null    object\n",
      "dtypes: object(14)\n",
      "memory usage: 72.1+ KB\n"
     ]
    }
   ],
   "source": [
    "df.info()"
   ]
  },
  {
   "cell_type": "markdown",
   "metadata": {},
   "source": [
    "#### Show statistical information of dataset ###\n",
    "\n",
    "This is not very important at this moment, but im including to remind myself of good practice."
   ]
  },
  {
   "cell_type": "code",
   "execution_count": 25,
   "metadata": {},
   "outputs": [
    {
     "data": {
      "text/html": [
       "<div>\n",
       "<style scoped>\n",
       "    .dataframe tbody tr th:only-of-type {\n",
       "        vertical-align: middle;\n",
       "    }\n",
       "\n",
       "    .dataframe tbody tr th {\n",
       "        vertical-align: top;\n",
       "    }\n",
       "\n",
       "    .dataframe thead th {\n",
       "        text-align: right;\n",
       "    }\n",
       "</style>\n",
       "<table border=\"1\" class=\"dataframe\">\n",
       "  <thead>\n",
       "    <tr style=\"text-align: right;\">\n",
       "      <th></th>\n",
       "      <th>0</th>\n",
       "      <th>1</th>\n",
       "      <th>2</th>\n",
       "      <th>3</th>\n",
       "      <th>4</th>\n",
       "      <th>5</th>\n",
       "      <th>6</th>\n",
       "      <th>7</th>\n",
       "      <th>8</th>\n",
       "      <th>9</th>\n",
       "      <th>10</th>\n",
       "      <th>11</th>\n",
       "      <th>12</th>\n",
       "      <th>13</th>\n",
       "    </tr>\n",
       "  </thead>\n",
       "  <tbody>\n",
       "    <tr>\n",
       "      <th>count</th>\n",
       "      <td>658</td>\n",
       "      <td>658</td>\n",
       "      <td>658</td>\n",
       "      <td>658</td>\n",
       "      <td>658</td>\n",
       "      <td>658</td>\n",
       "      <td>648</td>\n",
       "      <td>658</td>\n",
       "      <td>587</td>\n",
       "      <td>59</td>\n",
       "      <td>55</td>\n",
       "      <td>1</td>\n",
       "      <td>658</td>\n",
       "      <td>628</td>\n",
       "    </tr>\n",
       "    <tr>\n",
       "      <th>unique</th>\n",
       "      <td>16</td>\n",
       "      <td>16</td>\n",
       "      <td>16</td>\n",
       "      <td>57</td>\n",
       "      <td>295</td>\n",
       "      <td>36</td>\n",
       "      <td>103</td>\n",
       "      <td>302</td>\n",
       "      <td>456</td>\n",
       "      <td>39</td>\n",
       "      <td>43</td>\n",
       "      <td>1</td>\n",
       "      <td>158</td>\n",
       "      <td>224</td>\n",
       "    </tr>\n",
       "    <tr>\n",
       "      <th>top</th>\n",
       "      <td>35</td>\n",
       "      <td>British Columbia</td>\n",
       "      <td>Canada</td>\n",
       "      <td>2020-04-12</td>\n",
       "      <td>0</td>\n",
       "      <td>0</td>\n",
       "      <td>0</td>\n",
       "      <td>0</td>\n",
       "      <td>0</td>\n",
       "      <td>0</td>\n",
       "      <td>0</td>\n",
       "      <td>ratetested</td>\n",
       "      <td>0</td>\n",
       "      <td>0</td>\n",
       "    </tr>\n",
       "    <tr>\n",
       "      <th>freq</th>\n",
       "      <td>56</td>\n",
       "      <td>56</td>\n",
       "      <td>56</td>\n",
       "      <td>15</td>\n",
       "      <td>90</td>\n",
       "      <td>537</td>\n",
       "      <td>414</td>\n",
       "      <td>78</td>\n",
       "      <td>38</td>\n",
       "      <td>7</td>\n",
       "      <td>3</td>\n",
       "      <td>1</td>\n",
       "      <td>242</td>\n",
       "      <td>232</td>\n",
       "    </tr>\n",
       "  </tbody>\n",
       "</table>\n",
       "</div>"
      ],
      "text/plain": [
       "         0                 1       2           3    4    5    6    7    8   \\\n",
       "count   658               658     658         658  658  658  648  658  587   \n",
       "unique   16                16      16          57  295   36  103  302  456   \n",
       "top      35  British Columbia  Canada  2020-04-12    0    0    0    0    0   \n",
       "freq     56                56      56          15   90  537  414   78   38   \n",
       "\n",
       "        9   10          11   12   13  \n",
       "count   59  55           1  658  628  \n",
       "unique  39  43           1  158  224  \n",
       "top      0   0  ratetested    0    0  \n",
       "freq     7   3           1  242  232  "
      ]
     },
     "execution_count": 25,
     "metadata": {},
     "output_type": "execute_result"
    }
   ],
   "source": [
    "df.describe()"
   ]
  },
  {
   "cell_type": "markdown",
   "metadata": {},
   "source": [
    "# 2) Data Cleaning # \n",
    "\n",
    "We will be cleaning the data here, and making it esier for us to develop code for the data.\n",
    "\n",
    "\n",
    "Find missing data and present in the form of a presentage, from this information we can determine which data should not be used. "
   ]
  },
  {
   "cell_type": "code",
   "execution_count": 26,
   "metadata": {},
   "outputs": [
    {
     "name": "stdout",
     "output_type": "stream",
     "text": [
      "Precent data missing: \n",
      "0       0.000000\n",
      "1       0.000000\n",
      "2       0.000000\n",
      "3       0.000000\n",
      "4       0.000000\n",
      "5       0.000000\n",
      "6       1.522070\n",
      "7       0.000000\n",
      "8      10.806697\n",
      "9      91.171994\n",
      "10     91.780822\n",
      "11    100.000000\n",
      "12      0.000000\n",
      "13      4.566210\n",
      "dtype: float64\n"
     ]
    }
   ],
   "source": [
    "print('Precent data missing: ')\n",
    "print((df.isnull().sum()/657)*100)"
   ]
  },
  {
   "cell_type": "markdown",
   "metadata": {},
   "source": [
    "#### Data removal ####\n",
    "\n",
    "I am removing several attributes such as:\n",
    "\n",
    "(13) Precent per day: this is not imporant because we can do this ourselves.\n",
    "\n",
    "(11) Test rate: 100% of this data is missing so remove it.\n",
    "\n",
    "(10) Precent recovered: 91% of the data is missing. When more data becomes avalible, I would include this.  \n",
    "\n",
    "(9) Number recovered: 91% of the data is missing. When more data becomes avalible, I would include this.  \n",
    "\n",
    "(8) Number of tested: 10% of the data is missing. When more data becomes avalible, I would include this.\n",
    "\n",
    "(2) French names: removed not requiered. \n",
    "\n",
    "Removing 'Repatriated Travellers' because they have very incomplete information. "
   ]
  },
  {
   "cell_type": "code",
   "execution_count": 27,
   "metadata": {
    "scrolled": true
   },
   "outputs": [],
   "source": [
    "#reject unwanted naming conventions\n",
    "# this data has NaN or utilized percet of cases /day which can be calculated if needed.\n",
    "df.drop(13, axis=1, inplace=True)\n",
    "df.drop(11, axis=1, inplace=True)\n",
    "df.drop(10, axis=1, inplace=True)\n",
    "df.drop(9, axis=1, inplace=True)\n",
    "df.drop(8, axis=1, inplace=True)\n",
    "df.drop(2,axis=1,inplace=True)\n",
    "df.drop(0,axis=0,inplace=True)\n",
    "\n",
    "df = df[df[1] != 'Repatriated travellers']"
   ]
  },
  {
   "cell_type": "markdown",
   "metadata": {},
   "source": [
    "#### Redefine headers ###\n",
    "\n",
    "redefining headers to something more discriptive"
   ]
  },
  {
   "cell_type": "code",
   "execution_count": 28,
   "metadata": {},
   "outputs": [],
   "source": [
    "#Set header names for data frame\n",
    "headers = [\"ProvinceID\",\"ProvinceNameEN\",\"Date\",\"ConfirmedCases\", \"ProbableCases\",\"Deceased\",\n",
    "         \"Total\",\"TotalToday\"]\n",
    "df.columns = headers"
   ]
  },
  {
   "cell_type": "markdown",
   "metadata": {},
   "source": [
    "#### missing data ####\n",
    "\n",
    "repeat missing information, to ensure we have no missing information. "
   ]
  },
  {
   "cell_type": "code",
   "execution_count": 29,
   "metadata": {},
   "outputs": [
    {
     "name": "stdout",
     "output_type": "stream",
     "text": [
      "Precent data missing: \n",
      "ProvinceID        0.0\n",
      "ProvinceNameEN    0.0\n",
      "Date              0.0\n",
      "ConfirmedCases    0.0\n",
      "ProbableCases     0.0\n",
      "Deceased          0.0\n",
      "Total             0.0\n",
      "TotalToday        0.0\n",
      "dtype: float64\n"
     ]
    }
   ],
   "source": [
    "print('Precent data missing: ')\n",
    "print((df.isnull().sum()/617)*100)"
   ]
  },
  {
   "cell_type": "markdown",
   "metadata": {},
   "source": [
    "#### Changing dtypes ####\n",
    "\n",
    "changing the data type"
   ]
  },
  {
   "cell_type": "code",
   "execution_count": 30,
   "metadata": {},
   "outputs": [
    {
     "data": {
      "text/plain": [
       "ProvinceID                 int32\n",
       "ProvinceNameEN            object\n",
       "Date              datetime64[ns]\n",
       "ConfirmedCases             int32\n",
       "ProbableCases              int32\n",
       "Deceased                   int32\n",
       "Total                      int32\n",
       "TotalToday                 int32\n",
       "dtype: object"
      ]
     },
     "execution_count": 30,
     "metadata": {},
     "output_type": "execute_result"
    }
   ],
   "source": [
    "# Chaning data types to integers\n",
    "df[[\"ProvinceID\", \"ConfirmedCases\"]] = df[[\"ProvinceID\", \"ConfirmedCases\"]].astype(\"int\")\n",
    "df[[\"ProbableCases\",\"Deceased\"]] = df[[\"ProbableCases\",\"Deceased\"]].astype(\"int\")\n",
    "df[[\"Total\",\"TotalToday\"]] = df[[\"Total\",\"TotalToday\"]].astype(\"int\")\n",
    "\n",
    "# Changing data tpye to datetime \n",
    "df[['Date']] = df[['Date']].astype(\"datetime64\")\n",
    "\n",
    "df.dtypes"
   ]
  },
  {
   "cell_type": "code",
   "execution_count": 31,
   "metadata": {
    "scrolled": true
   },
   "outputs": [
    {
     "data": {
      "text/html": [
       "<div>\n",
       "<style scoped>\n",
       "    .dataframe tbody tr th:only-of-type {\n",
       "        vertical-align: middle;\n",
       "    }\n",
       "\n",
       "    .dataframe tbody tr th {\n",
       "        vertical-align: top;\n",
       "    }\n",
       "\n",
       "    .dataframe thead th {\n",
       "        text-align: right;\n",
       "    }\n",
       "</style>\n",
       "<table border=\"1\" class=\"dataframe\">\n",
       "  <thead>\n",
       "    <tr style=\"text-align: right;\">\n",
       "      <th></th>\n",
       "      <th>ProvinceID</th>\n",
       "      <th>ProvinceNameEN</th>\n",
       "      <th>Date</th>\n",
       "      <th>ConfirmedCases</th>\n",
       "      <th>ProbableCases</th>\n",
       "      <th>Deceased</th>\n",
       "      <th>Total</th>\n",
       "      <th>TotalToday</th>\n",
       "    </tr>\n",
       "  </thead>\n",
       "  <tbody>\n",
       "    <tr>\n",
       "      <th>1</th>\n",
       "      <td>35</td>\n",
       "      <td>Ontario</td>\n",
       "      <td>2020-01-31</td>\n",
       "      <td>3</td>\n",
       "      <td>0</td>\n",
       "      <td>0</td>\n",
       "      <td>3</td>\n",
       "      <td>3</td>\n",
       "    </tr>\n",
       "    <tr>\n",
       "      <th>2</th>\n",
       "      <td>59</td>\n",
       "      <td>British Columbia</td>\n",
       "      <td>2020-01-31</td>\n",
       "      <td>1</td>\n",
       "      <td>0</td>\n",
       "      <td>0</td>\n",
       "      <td>1</td>\n",
       "      <td>1</td>\n",
       "    </tr>\n",
       "    <tr>\n",
       "      <th>3</th>\n",
       "      <td>1</td>\n",
       "      <td>Canada</td>\n",
       "      <td>2020-01-31</td>\n",
       "      <td>4</td>\n",
       "      <td>0</td>\n",
       "      <td>0</td>\n",
       "      <td>4</td>\n",
       "      <td>4</td>\n",
       "    </tr>\n",
       "    <tr>\n",
       "      <th>4</th>\n",
       "      <td>35</td>\n",
       "      <td>Ontario</td>\n",
       "      <td>2020-02-08</td>\n",
       "      <td>3</td>\n",
       "      <td>0</td>\n",
       "      <td>0</td>\n",
       "      <td>3</td>\n",
       "      <td>0</td>\n",
       "    </tr>\n",
       "    <tr>\n",
       "      <th>5</th>\n",
       "      <td>59</td>\n",
       "      <td>British Columbia</td>\n",
       "      <td>2020-02-08</td>\n",
       "      <td>4</td>\n",
       "      <td>0</td>\n",
       "      <td>0</td>\n",
       "      <td>4</td>\n",
       "      <td>3</td>\n",
       "    </tr>\n",
       "  </tbody>\n",
       "</table>\n",
       "</div>"
      ],
      "text/plain": [
       "   ProvinceID    ProvinceNameEN       Date  ConfirmedCases  ProbableCases  \\\n",
       "1          35           Ontario 2020-01-31               3              0   \n",
       "2          59  British Columbia 2020-01-31               1              0   \n",
       "3           1            Canada 2020-01-31               4              0   \n",
       "4          35           Ontario 2020-02-08               3              0   \n",
       "5          59  British Columbia 2020-02-08               4              0   \n",
       "\n",
       "   Deceased  Total  TotalToday  \n",
       "1         0      3           3  \n",
       "2         0      1           1  \n",
       "3         0      4           4  \n",
       "4         0      3           0  \n",
       "5         0      4           3  "
      ]
     },
     "execution_count": 31,
     "metadata": {},
     "output_type": "execute_result"
    }
   ],
   "source": [
    "df.head()"
   ]
  },
  {
   "cell_type": "markdown",
   "metadata": {},
   "source": [
    "#### New Data format #\n",
    "\n",
    "With a new Data format I am creating a new DataFrame. This is the new data format, I think it is clearner and more orginized. "
   ]
  },
  {
   "cell_type": "code",
   "execution_count": 32,
   "metadata": {
    "scrolled": true
   },
   "outputs": [
    {
     "data": {
      "text/html": [
       "<div>\n",
       "<style scoped>\n",
       "    .dataframe tbody tr th:only-of-type {\n",
       "        vertical-align: middle;\n",
       "    }\n",
       "\n",
       "    .dataframe tbody tr th {\n",
       "        vertical-align: top;\n",
       "    }\n",
       "\n",
       "    .dataframe thead th {\n",
       "        text-align: right;\n",
       "    }\n",
       "</style>\n",
       "<table border=\"1\" class=\"dataframe\">\n",
       "  <thead>\n",
       "    <tr style=\"text-align: right;\">\n",
       "      <th></th>\n",
       "      <th>ProvinceID</th>\n",
       "      <th>Date</th>\n",
       "      <th>ConfirmedCases</th>\n",
       "      <th>ProbableCases</th>\n",
       "      <th>Deceased</th>\n",
       "      <th>Total</th>\n",
       "      <th>TotalToday</th>\n",
       "    </tr>\n",
       "    <tr>\n",
       "      <th>ProvinceNameEN</th>\n",
       "      <th></th>\n",
       "      <th></th>\n",
       "      <th></th>\n",
       "      <th></th>\n",
       "      <th></th>\n",
       "      <th></th>\n",
       "      <th></th>\n",
       "    </tr>\n",
       "  </thead>\n",
       "  <tbody>\n",
       "    <tr>\n",
       "      <th>Ontario</th>\n",
       "      <td>35</td>\n",
       "      <td>2020-01-31</td>\n",
       "      <td>3</td>\n",
       "      <td>0</td>\n",
       "      <td>0</td>\n",
       "      <td>3</td>\n",
       "      <td>3</td>\n",
       "    </tr>\n",
       "    <tr>\n",
       "      <th>British Columbia</th>\n",
       "      <td>59</td>\n",
       "      <td>2020-01-31</td>\n",
       "      <td>1</td>\n",
       "      <td>0</td>\n",
       "      <td>0</td>\n",
       "      <td>1</td>\n",
       "      <td>1</td>\n",
       "    </tr>\n",
       "    <tr>\n",
       "      <th>Canada</th>\n",
       "      <td>1</td>\n",
       "      <td>2020-01-31</td>\n",
       "      <td>4</td>\n",
       "      <td>0</td>\n",
       "      <td>0</td>\n",
       "      <td>4</td>\n",
       "      <td>4</td>\n",
       "    </tr>\n",
       "    <tr>\n",
       "      <th>Ontario</th>\n",
       "      <td>35</td>\n",
       "      <td>2020-02-08</td>\n",
       "      <td>3</td>\n",
       "      <td>0</td>\n",
       "      <td>0</td>\n",
       "      <td>3</td>\n",
       "      <td>0</td>\n",
       "    </tr>\n",
       "    <tr>\n",
       "      <th>British Columbia</th>\n",
       "      <td>59</td>\n",
       "      <td>2020-02-08</td>\n",
       "      <td>4</td>\n",
       "      <td>0</td>\n",
       "      <td>0</td>\n",
       "      <td>4</td>\n",
       "      <td>3</td>\n",
       "    </tr>\n",
       "  </tbody>\n",
       "</table>\n",
       "</div>"
      ],
      "text/plain": [
       "                  ProvinceID       Date  ConfirmedCases  ProbableCases  \\\n",
       "ProvinceNameEN                                                           \n",
       "Ontario                   35 2020-01-31               3              0   \n",
       "British Columbia          59 2020-01-31               1              0   \n",
       "Canada                     1 2020-01-31               4              0   \n",
       "Ontario                   35 2020-02-08               3              0   \n",
       "British Columbia          59 2020-02-08               4              0   \n",
       "\n",
       "                  Deceased  Total  TotalToday  \n",
       "ProvinceNameEN                                 \n",
       "Ontario                  0      3           3  \n",
       "British Columbia         0      1           1  \n",
       "Canada                   0      4           4  \n",
       "Ontario                  0      3           0  \n",
       "British Columbia         0      4           3  "
      ]
     },
     "execution_count": 32,
     "metadata": {},
     "output_type": "execute_result"
    }
   ],
   "source": [
    "#df_group_one = df[['Province-Name-EN','Date','Confirmed-Cases']]\n",
    "#df_1 = df\n",
    "df.set_index(\"ProvinceNameEN\", inplace=True)\n",
    "df.head()"
   ]
  },
  {
   "cell_type": "markdown",
   "metadata": {},
   "source": [
    "# Saveing data frame #\n",
    "\n",
    "Saving the dataframe to a .csv file."
   ]
  },
  {
   "cell_type": "code",
   "execution_count": 36,
   "metadata": {},
   "outputs": [],
   "source": [
    "df.to_csv('Covid_19_cleaned_data.csv',index=True)"
   ]
  }
 ],
 "metadata": {
  "kernelspec": {
   "display_name": "Python 3",
   "language": "python",
   "name": "python3"
  },
  "language_info": {
   "codemirror_mode": {
    "name": "ipython",
    "version": 3
   },
   "file_extension": ".py",
   "mimetype": "text/x-python",
   "name": "python",
   "nbconvert_exporter": "python",
   "pygments_lexer": "ipython3",
   "version": "3.7.6"
  }
 },
 "nbformat": 4,
 "nbformat_minor": 4
}
